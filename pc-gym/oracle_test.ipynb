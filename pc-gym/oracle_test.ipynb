{
 "cells": [
  {
   "cell_type": "code",
   "execution_count": 1,
   "metadata": {},
   "outputs": [],
   "source": [
    "import numpy as np \n",
    "import torch\n",
    "import matplotlib.pyplot as plt \n",
    "import gymnasium as gym\n",
    "import torch.nn.functional as F\n",
    "import copy\n",
    "from stable_baselines3 import PPO,SAC\n",
    "from Models import Models_env\n",
    "#Global params\n",
    "T = 26\n",
    "nsteps = 100\n"
   ]
  },
  {
   "cell_type": "code",
   "execution_count": 2,
   "metadata": {},
   "outputs": [],
   "source": [
    "SP = {\n",
    "    'Ca': [0.8 for i in range(int(nsteps/2))] + [0.9 for i in range(int(nsteps/2))],\n",
    "}\n",
    "\n",
    "#Continuous box action space\n",
    "action_space = {\n",
    "    'low': np.array([295]),\n",
    "    'high':np.array([302]) \n",
    "}\n",
    "#Continuous box observation space\n",
    "observation_space = {\n",
    "    'low' : np.array([0.7,300,0.8]),\n",
    "    'high' : np.array([1,350,0.9])  \n",
    "}\n",
    "\n",
    "r_scale ={\n",
    "    '0': 5 #Reward scale for each state\n",
    "}\n",
    "disturbance = {\n",
    "    'Caf': np.array([1 for i in range(int(nsteps/4))]+[1.05 for i in range(int(nsteps/2))]+[1 for i in range(int(nsteps/4))]),\n",
    "}\n",
    "env_params = {\n",
    "    'Nx': 2, # Number of states\n",
    "    'N': nsteps, # Number of time steps\n",
    "    'tsim':T, # Simulation Time\n",
    "    'Nu':1, # Number of control/actions\n",
    "    'SP':SP, #Setpoint\n",
    "    'o_space' : observation_space, #Observation space\n",
    "    'a_space' : action_space, # Action space\n",
    "    'dt': 1., # Time step\n",
    "    'x0': np.array([0.8,330,0.8]), # Initial conditions (torch.tensor)\n",
    "    'model': 'cstr_ode', #Select the model\n",
    "    'r_scale': r_scale, #Scale the L1 norm used for reward (|x-x_sp|*r_scale)\n",
    "    'normalise_a': True, #Normalise the actions\n",
    "    'normalise_o':True, #Normalise the states,\n",
    "    'noise':True, #Add noise to the states\n",
    "    'integration_method': 'jax', #Select the integration method\n",
    "    'noise_percentage':0.001, #Noise percentage\n",
    "    'disturbances':disturbance #Add disturbance to the states\n",
    "}\n",
    "\n",
    "\n",
    "cons = {\n",
    "    'T' :330\n",
    "}\n",
    "\n",
    "cons_type = {\n",
    "    'T':'<='\n",
    "}\n",
    "\n",
    "env_params.update({\n",
    "'done_on_cons_vio':False,\n",
    "'constraints': cons, \n",
    "'cons_type': cons_type,\n",
    "'r_penalty': True})\n",
    "env = Models_env(env_params)"
   ]
  },
  {
   "cell_type": "code",
   "execution_count": 4,
   "metadata": {},
   "outputs": [
    {
     "name": "stdout",
     "output_type": "stream",
     "text": [
      "[[1. 0.]\n",
      " [0. 1.]]\n"
     ]
    },
    {
     "ename": "RuntimeError",
     "evalue": ".../casadi/core/function_internal.cpp:146: Error calling IpoptInterface::init for 'solver':\nError in Function::factory for 'nlp' [SXFunction] at .../casadi/core/function.cpp:1758:\nFailed to create nlp_grad_f:[x, p]->[f, grad:f:x] with {}:\n.../casadi/core/factory.hpp:584: Gradient generation failed:\nError in SX::gradient at .../casadi/core/generic_matrix.hpp:1468:\n.../casadi/core/generic_matrix.hpp:1464: Assertion \"ex.is_scalar()\" failed:\n'gradient' only defined for scalar outputs: Use 'jacobian' instead.",
     "output_type": "error",
     "traceback": [
      "\u001b[1;31m---------------------------------------------------------------------------\u001b[0m",
      "\u001b[1;31mRuntimeError\u001b[0m                              Traceback (most recent call last)",
      "\u001b[1;32m~\\AppData\\Local\\Temp\\ipykernel_13896\\2682083334.py\u001b[0m in \u001b[0;36m?\u001b[1;34m()\u001b[0m\n\u001b[0;32m      1\u001b[0m \u001b[1;32mfrom\u001b[0m \u001b[0moracle\u001b[0m \u001b[1;32mimport\u001b[0m \u001b[0moracle\u001b[0m\u001b[1;33m\u001b[0m\u001b[1;33m\u001b[0m\u001b[0m\n\u001b[0;32m      2\u001b[0m \u001b[0moracle\u001b[0m \u001b[1;33m=\u001b[0m \u001b[0moracle\u001b[0m\u001b[1;33m(\u001b[0m\u001b[0mModels_env\u001b[0m\u001b[1;33m,\u001b[0m\u001b[0menv_params\u001b[0m\u001b[1;33m)\u001b[0m\u001b[1;33m\u001b[0m\u001b[1;33m\u001b[0m\u001b[0m\n\u001b[0;32m      3\u001b[0m \u001b[1;33m\u001b[0m\u001b[0m\n\u001b[0;32m      4\u001b[0m \u001b[0mprint\u001b[0m\u001b[1;33m(\u001b[0m\u001b[0moracle\u001b[0m\u001b[1;33m.\u001b[0m\u001b[0mQ\u001b[0m\u001b[1;33m)\u001b[0m\u001b[1;33m\u001b[0m\u001b[1;33m\u001b[0m\u001b[0m\n\u001b[1;32m----> 5\u001b[1;33m \u001b[0moracle\u001b[0m\u001b[1;33m.\u001b[0m\u001b[0mocp\u001b[0m\u001b[1;33m(\u001b[0m\u001b[1;33m)\u001b[0m\u001b[1;33m\u001b[0m\u001b[1;33m\u001b[0m\u001b[0m\n\u001b[0m",
      "\u001b[1;32mc:\\Users\\mfb22\\Documents\\GitHub\\pc-gym\\pc-gym\\oracle.py\u001b[0m in \u001b[0;36m?\u001b[1;34m(self)\u001b[0m\n\u001b[0;32m    111\u001b[0m         \u001b[0mJ\u001b[0m \u001b[1;33m=\u001b[0m \u001b[0mJ\u001b[0m \u001b[1;33m+\u001b[0m \u001b[1;36m1\u001b[0m\u001b[1;33m/\u001b[0m\u001b[1;36m2\u001b[0m\u001b[1;33m*\u001b[0m\u001b[1;33m(\u001b[0m\u001b[0mXk\u001b[0m\u001b[1;33m.\u001b[0m\u001b[0mT\u001b[0m \u001b[1;33m@\u001b[0m \u001b[0mself\u001b[0m\u001b[1;33m.\u001b[0m\u001b[0mQ\u001b[0m \u001b[1;33m@\u001b[0m \u001b[0mXk\u001b[0m\u001b[1;33m)\u001b[0m\u001b[1;33m\u001b[0m\u001b[1;33m\u001b[0m\u001b[0m\n\u001b[0;32m    112\u001b[0m \u001b[1;33m\u001b[0m\u001b[0m\n\u001b[0;32m    113\u001b[0m         \u001b[1;31m# Create an NLP solver\u001b[0m\u001b[1;33m\u001b[0m\u001b[1;33m\u001b[0m\u001b[0m\n\u001b[0;32m    114\u001b[0m         \u001b[0mprob\u001b[0m \u001b[1;33m=\u001b[0m \u001b[1;33m{\u001b[0m\u001b[1;34m'f'\u001b[0m\u001b[1;33m:\u001b[0m \u001b[0mJ\u001b[0m\u001b[1;33m,\u001b[0m \u001b[1;34m'x'\u001b[0m\u001b[1;33m:\u001b[0m \u001b[0mvertcat\u001b[0m\u001b[1;33m(\u001b[0m\u001b[1;33m*\u001b[0m\u001b[0mw\u001b[0m\u001b[1;33m)\u001b[0m\u001b[1;33m,\u001b[0m \u001b[1;34m'g'\u001b[0m\u001b[1;33m:\u001b[0m \u001b[0mvertcat\u001b[0m\u001b[1;33m(\u001b[0m\u001b[1;33m*\u001b[0m\u001b[0mg\u001b[0m\u001b[1;33m)\u001b[0m\u001b[1;33m}\u001b[0m\u001b[1;33m\u001b[0m\u001b[1;33m\u001b[0m\u001b[0m\n\u001b[1;32m--> 115\u001b[1;33m         \u001b[0msolver\u001b[0m \u001b[1;33m=\u001b[0m \u001b[0mnlpsol\u001b[0m\u001b[1;33m(\u001b[0m\u001b[1;34m'solver'\u001b[0m\u001b[1;33m,\u001b[0m \u001b[1;34m'ipopt'\u001b[0m\u001b[1;33m,\u001b[0m \u001b[0mprob\u001b[0m\u001b[1;33m)\u001b[0m\u001b[1;33m\u001b[0m\u001b[1;33m\u001b[0m\u001b[0m\n\u001b[0m\u001b[0;32m    116\u001b[0m \u001b[1;33m\u001b[0m\u001b[0m\n\u001b[0;32m    117\u001b[0m         \u001b[1;31m# Solve the NLP\u001b[0m\u001b[1;33m\u001b[0m\u001b[1;33m\u001b[0m\u001b[0m\n\u001b[0;32m    118\u001b[0m         \u001b[0msol\u001b[0m \u001b[1;33m=\u001b[0m \u001b[0msolver\u001b[0m\u001b[1;33m(\u001b[0m\u001b[0mx0\u001b[0m\u001b[1;33m=\u001b[0m\u001b[0mw0\u001b[0m\u001b[1;33m,\u001b[0m \u001b[0mlbx\u001b[0m\u001b[1;33m=\u001b[0m\u001b[0mlbw\u001b[0m\u001b[1;33m,\u001b[0m \u001b[0mubx\u001b[0m\u001b[1;33m=\u001b[0m\u001b[0mubw\u001b[0m\u001b[1;33m,\u001b[0m \u001b[0mlbg\u001b[0m\u001b[1;33m=\u001b[0m\u001b[0mlbg\u001b[0m\u001b[1;33m,\u001b[0m \u001b[0mubg\u001b[0m\u001b[1;33m=\u001b[0m\u001b[0mubg\u001b[0m\u001b[1;33m)\u001b[0m\u001b[1;33m\u001b[0m\u001b[1;33m\u001b[0m\u001b[0m\n",
      "\u001b[1;32m~\\AppData\\Local\\Packages\\PythonSoftwareFoundation.Python.3.11_qbz5n2kfra8p0\\LocalCache\\local-packages\\Python311\\site-packages\\casadi\\casadi.py\u001b[0m in \u001b[0;36m?\u001b[1;34m(*args)\u001b[0m\n\u001b[0;32m  29029\u001b[0m \u001b[1;33m\u001b[0m\u001b[0m\n\u001b[0;32m  29030\u001b[0m \u001b[1;33m\u001b[0m\u001b[0m\n\u001b[0;32m  29031\u001b[0m \u001b[1;33m\u001b[0m\u001b[0m\n\u001b[0;32m  29032\u001b[0m     \"\"\"\n\u001b[1;32m> 29033\u001b[1;33m     \u001b[1;32mreturn\u001b[0m \u001b[0m_casadi\u001b[0m\u001b[1;33m.\u001b[0m\u001b[0mnlpsol\u001b[0m\u001b[1;33m(\u001b[0m\u001b[1;33m*\u001b[0m\u001b[0margs\u001b[0m\u001b[1;33m)\u001b[0m\u001b[1;33m\u001b[0m\u001b[1;33m\u001b[0m\u001b[0m\n\u001b[0m",
      "\u001b[1;31mRuntimeError\u001b[0m: .../casadi/core/function_internal.cpp:146: Error calling IpoptInterface::init for 'solver':\nError in Function::factory for 'nlp' [SXFunction] at .../casadi/core/function.cpp:1758:\nFailed to create nlp_grad_f:[x, p]->[f, grad:f:x] with {}:\n.../casadi/core/factory.hpp:584: Gradient generation failed:\nError in SX::gradient at .../casadi/core/generic_matrix.hpp:1468:\n.../casadi/core/generic_matrix.hpp:1464: Assertion \"ex.is_scalar()\" failed:\n'gradient' only defined for scalar outputs: Use 'jacobian' instead."
     ]
    }
   ],
   "source": [
    "from oracle import oracle\n",
    "oracle = oracle(Models_env,env_params)\n",
    "\n",
    "print(oracle.Q)\n",
    "oracle.ocp()"
   ]
  }
 ],
 "metadata": {
  "kernelspec": {
   "display_name": "Python 3",
   "language": "python",
   "name": "python3"
  },
  "language_info": {
   "codemirror_mode": {
    "name": "ipython",
    "version": 3
   },
   "file_extension": ".py",
   "mimetype": "text/x-python",
   "name": "python",
   "nbconvert_exporter": "python",
   "pygments_lexer": "ipython3",
   "version": "3.11.7"
  }
 },
 "nbformat": 4,
 "nbformat_minor": 2
}
