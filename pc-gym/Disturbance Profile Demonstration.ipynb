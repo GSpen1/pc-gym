{
 "cells": [
  {
   "cell_type": "markdown",
   "metadata": {},
   "source": [
    "# Disturbance Demonstration\n",
    "\n",
    "Author: Max Bloor\n",
    "\n",
    "Showing the disturbance interface capabilities of the PC-gym"
   ]
  },
  {
   "cell_type": "code",
   "execution_count": 1,
   "metadata": {},
   "outputs": [],
   "source": [
    "from Models import Models_env\n",
    "import numpy as np \n",
    "import torch\n",
    "import matplotlib.pyplot as plt "
   ]
  },
  {
   "cell_type": "markdown",
   "metadata": {},
   "source": [
    "## Rollout the model"
   ]
  },
  {
   "cell_type": "code",
   "execution_count": 2,
   "metadata": {},
   "outputs": [],
   "source": [
    "#Global params\n",
    "T = 26\n",
    "nsteps = 100\n",
    "\n",
    "#Simulate System\n",
    "def sim(env,env_params): \n",
    "    input = env.generate_inputs()\n",
    "    env.reset()\n",
    "    SP_count = 0\n",
    "    #Count the number of setpoints\n",
    "    for k in env_params['SP'].keys():\n",
    "        if env_params['SP'][k] is not None:\n",
    "            SP_count +=1\n",
    "    \n",
    "    state = np.zeros((env_params['N'],env_params['Nx']+SP_count))\n",
    "    rew = np.zeros(env_params['N'])\n",
    "    \n",
    "    #Open-loop Simulation\n",
    "    for i in range(env_params['N']):\n",
    "        state[i], rew[i], term, Trunc, _ = env.step(input[i])  \n",
    "        if term:\n",
    "            break\n",
    "    #Plot\n",
    "    cons = _\n",
    "    env.plot_simulation_results(state,input,cons)\n",
    "    return _"
   ]
  },
  {
   "cell_type": "markdown",
   "metadata": {},
   "source": [
    "## Reactor "
   ]
  },
  {
   "cell_type": "code",
   "execution_count": 3,
   "metadata": {},
   "outputs": [
    {
     "ename": "AttributeError",
     "evalue": "'numpy.ndarray' object has no attribute 'plot'",
     "output_type": "error",
     "traceback": [
      "\u001b[1;31m---------------------------------------------------------------------------\u001b[0m",
      "\u001b[1;31mAttributeError\u001b[0m                            Traceback (most recent call last)",
      "\u001b[1;32mc:\\Users\\mfb22\\Documents\\GitHub\\pc-gym\\pc-gym\\Disturbance Profile Demonstration.ipynb Cell 6\u001b[0m line \u001b[0;36m5\n\u001b[0;32m     <a href='vscode-notebook-cell:/c%3A/Users/mfb22/Documents/GitHub/pc-gym/pc-gym/Disturbance%20Profile%20Demonstration.ipynb#W4sZmlsZQ%3D%3D?line=32'>33</a>\u001b[0m env_params \u001b[39m=\u001b[39m {\n\u001b[0;32m     <a href='vscode-notebook-cell:/c%3A/Users/mfb22/Documents/GitHub/pc-gym/pc-gym/Disturbance%20Profile%20Demonstration.ipynb#W4sZmlsZQ%3D%3D?line=33'>34</a>\u001b[0m     \u001b[39m'\u001b[39m\u001b[39mNx\u001b[39m\u001b[39m'\u001b[39m: \u001b[39m2\u001b[39m, \u001b[39m# Number of states\u001b[39;00m\n\u001b[0;32m     <a href='vscode-notebook-cell:/c%3A/Users/mfb22/Documents/GitHub/pc-gym/pc-gym/Disturbance%20Profile%20Demonstration.ipynb#W4sZmlsZQ%3D%3D?line=34'>35</a>\u001b[0m     \u001b[39m'\u001b[39m\u001b[39mN\u001b[39m\u001b[39m'\u001b[39m: nsteps, \u001b[39m# Number of time steps\u001b[39;00m\n\u001b[1;32m   (...)\u001b[0m\n\u001b[0;32m     <a href='vscode-notebook-cell:/c%3A/Users/mfb22/Documents/GitHub/pc-gym/pc-gym/Disturbance%20Profile%20Demonstration.ipynb#W4sZmlsZQ%3D%3D?line=48'>49</a>\u001b[0m     \u001b[39m'\u001b[39m\u001b[39mdisturbances\u001b[39m\u001b[39m'\u001b[39m:disturbance,\n\u001b[0;32m     <a href='vscode-notebook-cell:/c%3A/Users/mfb22/Documents/GitHub/pc-gym/pc-gym/Disturbance%20Profile%20Demonstration.ipynb#W4sZmlsZQ%3D%3D?line=49'>50</a>\u001b[0m }\n\u001b[0;32m     <a href='vscode-notebook-cell:/c%3A/Users/mfb22/Documents/GitHub/pc-gym/pc-gym/Disturbance%20Profile%20Demonstration.ipynb#W4sZmlsZQ%3D%3D?line=50'>51</a>\u001b[0m env \u001b[39m=\u001b[39m Models_env(env_params)\n\u001b[1;32m---> <a href='vscode-notebook-cell:/c%3A/Users/mfb22/Documents/GitHub/pc-gym/pc-gym/Disturbance%20Profile%20Demonstration.ipynb#W4sZmlsZQ%3D%3D?line=52'>53</a>\u001b[0m c_info \u001b[39m=\u001b[39m sim(env,env_params)\n",
      "\u001b[1;32mc:\\Users\\mfb22\\Documents\\GitHub\\pc-gym\\pc-gym\\Disturbance Profile Demonstration.ipynb Cell 6\u001b[0m line \u001b[0;36m2\n\u001b[0;32m     <a href='vscode-notebook-cell:/c%3A/Users/mfb22/Documents/GitHub/pc-gym/pc-gym/Disturbance%20Profile%20Demonstration.ipynb#W4sZmlsZQ%3D%3D?line=22'>23</a>\u001b[0m \u001b[39m#Plot\u001b[39;00m\n\u001b[0;32m     <a href='vscode-notebook-cell:/c%3A/Users/mfb22/Documents/GitHub/pc-gym/pc-gym/Disturbance%20Profile%20Demonstration.ipynb#W4sZmlsZQ%3D%3D?line=23'>24</a>\u001b[0m cons \u001b[39m=\u001b[39m _\n\u001b[1;32m---> <a href='vscode-notebook-cell:/c%3A/Users/mfb22/Documents/GitHub/pc-gym/pc-gym/Disturbance%20Profile%20Demonstration.ipynb#W4sZmlsZQ%3D%3D?line=24'>25</a>\u001b[0m env\u001b[39m.\u001b[39;49mplot_simulation_results(state,\u001b[39minput\u001b[39;49m,cons)\n\u001b[0;32m     <a href='vscode-notebook-cell:/c%3A/Users/mfb22/Documents/GitHub/pc-gym/pc-gym/Disturbance%20Profile%20Demonstration.ipynb#W4sZmlsZQ%3D%3D?line=25'>26</a>\u001b[0m \u001b[39mreturn\u001b[39;00m _\n",
      "File \u001b[1;32mc:\\Users\\mfb22\\Documents\\GitHub\\pc-gym\\pc-gym\\Models.py:271\u001b[0m, in \u001b[0;36mModels_env.plot_simulation_results\u001b[1;34m(self, x, u, cons, variable_names)\u001b[0m\n\u001b[0;32m    269\u001b[0m \u001b[39m# Plot states\u001b[39;00m\n\u001b[0;32m    270\u001b[0m \u001b[39mfor\u001b[39;00m j \u001b[39min\u001b[39;00m \u001b[39mrange\u001b[39m(\u001b[39mself\u001b[39m\u001b[39m.\u001b[39mNx):\n\u001b[1;32m--> 271\u001b[0m     axs[j]\u001b[39m.\u001b[39;49mplot(t, x[:, j], \u001b[39m\"\u001b[39m\u001b[39mk\u001b[39m\u001b[39m\"\u001b[39m)\n\u001b[0;32m    272\u001b[0m     \u001b[39mif\u001b[39;00m \u001b[39mself\u001b[39m\u001b[39m.\u001b[39mconstraint_active:\n\u001b[0;32m    273\u001b[0m         \u001b[39mif\u001b[39;00m \u001b[39mstr\u001b[39m(j) \u001b[39min\u001b[39;00m \u001b[39mself\u001b[39m\u001b[39m.\u001b[39mconstraints:\n",
      "\u001b[1;31mAttributeError\u001b[0m: 'numpy.ndarray' object has no attribute 'plot'"
     ]
    },
    {
     "data": {
      "image/png": "[encoded data removed]",
      "text/plain": [
       "<Figure size 640x480 with 28 Axes>"
      ]
     },
     "metadata": {},
     "output_type": "display_data"
    }
   ],
   "source": [
    "#Enter required setpoints for each state. Enter None for states without setpoints.\n",
    "SP = {\n",
    "    '0': [0.8 for i in range(int(nsteps/2))] + [0.9 for i in range(int(nsteps/2))],\n",
    "    '1': [330 for i in range(int(nsteps/2))] + [320 for i in range(int(nsteps/2))],\n",
    "}\n",
    "\n",
    "#Continuous box action space\n",
    "action_space = {\n",
    "    'low': np.array([295]),\n",
    "    'high':np.array([305]) \n",
    "}\n",
    "#Continuous box observation space\n",
    "observation_space = {\n",
    "    'low' : np.array([0.1,200,0.8,320]),\n",
    "    'high' : np.array([4,400,0.9,330])  \n",
    "}\n",
    "\n",
    "cons = {\n",
    "    '0':0.86,\n",
    "    '1' :330 \n",
    "}\n",
    "\n",
    "cons_type = {\n",
    "    '0':'>=',\n",
    "    '1':'<='\n",
    "}\n",
    "\n",
    "disturbance = {\n",
    "    0: np.array([None for i in range(int(nsteps))]),\n",
    "    1: np.array([1 for i in range(int(nsteps/2))]+[1.1 for i in range(int(nsteps/2))]),\n",
    "\n",
    "}\n",
    "env_params = {\n",
    "    'Nx': 2, # Number of states\n",
    "    'N': nsteps, # Number of time steps\n",
    "    'tsim':T, # Simulation Time\n",
    "    'Nu':1, # Number of control/actions\n",
    "    'SP':SP, #Setpoint\n",
    "    'o_space' : observation_space, #Observation space\n",
    "    'a_space' : action_space, # Action space\n",
    "    'dt': 1., # Time step\n",
    "    'x0': torch.tensor([0.8,273,0.8,320]), # Initial conditions (torch.tensor)\n",
    "    'model': 'cstr_ode', #Select the model\n",
    "    'r_scale': torch.tensor([5,1/15]), #Scale the L1 norm used for reward (|x-x_sp|*r_scale)\n",
    "    'done_on_cons_vio':False,\n",
    "    'constraints': cons, \n",
    "    'cons_type': cons_type,\n",
    "    'r_penalty': 1000,\n",
    "    'disturbances':disturbance,\n",
    "}\n",
    "env = Models_env(env_params)\n",
    "\n",
    "c_info = sim(env,env_params)"
   ]
  }
 ],
 "metadata": {
  "kernelspec": {
   "display_name": "Python 3",
   "language": "python",
   "name": "python3"
  },
  "language_info": {
   "codemirror_mode": {
    "name": "ipython",
    "version": 3
   },
   "file_extension": ".py",
   "mimetype": "text/x-python",
   "name": "python",
   "nbconvert_exporter": "python",
   "pygments_lexer": "ipython3",
   "version": "3.11.7"
  }
 },
 "nbformat": 4,
 "nbformat_minor": 2
}
